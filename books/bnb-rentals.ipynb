{
 "cells": [
  {
   "cell_type": "code",
   "execution_count": 16,
   "metadata": {
    "collapsed": true
   },
   "outputs": [],
   "source": [
    "import pandas as pd\n",
    "import numpy as np"
   ]
  },
  {
   "cell_type": "code",
   "execution_count": 17,
   "outputs": [],
   "source": [
    "data = pd.read_csv(r\"/Users/tejaspatel/IdeaProjects/bnb-case-study/data/raw-bnb.data\")"
   ],
   "metadata": {
    "collapsed": false,
    "pycharm": {
     "name": "#%%\n"
    }
   }
  },
  {
   "cell_type": "code",
   "execution_count": 18,
   "outputs": [
    {
     "data": {
      "text/plain": "   2539                Clean & quiet apt home by the park  2787         John  \\\n0  2595                             Skylit Midtown Castle  2845     Jennifer   \n1  3647               THE VILLAGE OF HARLEM....NEW YORK !  4632    Elisabeth   \n2  3831                   Cozy Entire Floor of Brownstone  4869  LisaRoxanne   \n3  5022  Entire Apt: Spacious Studio/Loft by central park  7192        Laura   \n4  5099         Large Cozy 1 BR Apartment In Midtown East  7322        Chris   \n\n    Brooklyn    Kensington  40.64749  -73.97237     Private room  149   1  \\\n0  Manhattan       Midtown  40.75362  -73.98377  Entire home/apt  225   1   \n1  Manhattan        Harlem  40.80902  -73.94190     Private room  150   3   \n2   Brooklyn  Clinton Hill  40.68514  -73.95976  Entire home/apt   89   1   \n3  Manhattan   East Harlem  40.79851  -73.94399  Entire home/apt   80  10   \n4  Manhattan   Murray Hill  40.74767  -73.97500  Entire home/apt  200   3   \n\n     9  2018-10-19    0.21    6    365  \n0   45  2019-05-21    0.38  2.0  355.0  \n1    0           1  365.00  NaN    NaN  \n2  270  2019-07-05    4.64  1.0  194.0  \n3    9  2018-11-19    0.10  1.0    0.0  \n4   74  2019-06-22    0.59  1.0  129.0  ",
      "text/html": "<div>\n<style scoped>\n    .dataframe tbody tr th:only-of-type {\n        vertical-align: middle;\n    }\n\n    .dataframe tbody tr th {\n        vertical-align: top;\n    }\n\n    .dataframe thead th {\n        text-align: right;\n    }\n</style>\n<table border=\"1\" class=\"dataframe\">\n  <thead>\n    <tr style=\"text-align: right;\">\n      <th></th>\n      <th>2539</th>\n      <th>Clean &amp; quiet apt home by the park</th>\n      <th>2787</th>\n      <th>John</th>\n      <th>Brooklyn</th>\n      <th>Kensington</th>\n      <th>40.64749</th>\n      <th>-73.97237</th>\n      <th>Private room</th>\n      <th>149</th>\n      <th>1</th>\n      <th>9</th>\n      <th>2018-10-19</th>\n      <th>0.21</th>\n      <th>6</th>\n      <th>365</th>\n    </tr>\n  </thead>\n  <tbody>\n    <tr>\n      <th>0</th>\n      <td>2595</td>\n      <td>Skylit Midtown Castle</td>\n      <td>2845</td>\n      <td>Jennifer</td>\n      <td>Manhattan</td>\n      <td>Midtown</td>\n      <td>40.75362</td>\n      <td>-73.98377</td>\n      <td>Entire home/apt</td>\n      <td>225</td>\n      <td>1</td>\n      <td>45</td>\n      <td>2019-05-21</td>\n      <td>0.38</td>\n      <td>2.0</td>\n      <td>355.0</td>\n    </tr>\n    <tr>\n      <th>1</th>\n      <td>3647</td>\n      <td>THE VILLAGE OF HARLEM....NEW YORK !</td>\n      <td>4632</td>\n      <td>Elisabeth</td>\n      <td>Manhattan</td>\n      <td>Harlem</td>\n      <td>40.80902</td>\n      <td>-73.94190</td>\n      <td>Private room</td>\n      <td>150</td>\n      <td>3</td>\n      <td>0</td>\n      <td>1</td>\n      <td>365.00</td>\n      <td>NaN</td>\n      <td>NaN</td>\n    </tr>\n    <tr>\n      <th>2</th>\n      <td>3831</td>\n      <td>Cozy Entire Floor of Brownstone</td>\n      <td>4869</td>\n      <td>LisaRoxanne</td>\n      <td>Brooklyn</td>\n      <td>Clinton Hill</td>\n      <td>40.68514</td>\n      <td>-73.95976</td>\n      <td>Entire home/apt</td>\n      <td>89</td>\n      <td>1</td>\n      <td>270</td>\n      <td>2019-07-05</td>\n      <td>4.64</td>\n      <td>1.0</td>\n      <td>194.0</td>\n    </tr>\n    <tr>\n      <th>3</th>\n      <td>5022</td>\n      <td>Entire Apt: Spacious Studio/Loft by central park</td>\n      <td>7192</td>\n      <td>Laura</td>\n      <td>Manhattan</td>\n      <td>East Harlem</td>\n      <td>40.79851</td>\n      <td>-73.94399</td>\n      <td>Entire home/apt</td>\n      <td>80</td>\n      <td>10</td>\n      <td>9</td>\n      <td>2018-11-19</td>\n      <td>0.10</td>\n      <td>1.0</td>\n      <td>0.0</td>\n    </tr>\n    <tr>\n      <th>4</th>\n      <td>5099</td>\n      <td>Large Cozy 1 BR Apartment In Midtown East</td>\n      <td>7322</td>\n      <td>Chris</td>\n      <td>Manhattan</td>\n      <td>Murray Hill</td>\n      <td>40.74767</td>\n      <td>-73.97500</td>\n      <td>Entire home/apt</td>\n      <td>200</td>\n      <td>3</td>\n      <td>74</td>\n      <td>2019-06-22</td>\n      <td>0.59</td>\n      <td>1.0</td>\n      <td>129.0</td>\n    </tr>\n  </tbody>\n</table>\n</div>"
     },
     "execution_count": 18,
     "metadata": {},
     "output_type": "execute_result"
    }
   ],
   "source": [
    "data.head()"
   ],
   "metadata": {
    "collapsed": false,
    "pycharm": {
     "name": "#%%\n"
    }
   }
  },
  {
   "cell_type": "code",
   "execution_count": 19,
   "outputs": [],
   "source": [
    "cols =['id','name','host_id','host_name','neighbourhood_group','neighbourhood','latitude','longitude','room_type','price','minimum_nights','number_of_reviews','last_review','reviews_per_month','calculated_host_listings_count','availability_365']\n",
    "\n",
    "data = pd.read_csv(r\"/Users/tejaspatel/IdeaProjects/bnb-case-study/data/raw-bnb.data\", names=cols)"
   ],
   "metadata": {
    "collapsed": false,
    "pycharm": {
     "name": "#%%\n"
    }
   }
  },
  {
   "cell_type": "code",
   "execution_count": 20,
   "outputs": [
    {
     "data": {
      "text/plain": "     id                                              name  host_id  \\\n0  2539                Clean & quiet apt home by the park     2787   \n1  2595                             Skylit Midtown Castle     2845   \n2  3647               THE VILLAGE OF HARLEM....NEW YORK !     4632   \n3  3831                   Cozy Entire Floor of Brownstone     4869   \n4  5022  Entire Apt: Spacious Studio/Loft by central park     7192   \n\n     host_name neighbourhood_group neighbourhood  latitude  longitude  \\\n0         John            Brooklyn    Kensington  40.64749  -73.97237   \n1     Jennifer           Manhattan       Midtown  40.75362  -73.98377   \n2    Elisabeth           Manhattan        Harlem  40.80902  -73.94190   \n3  LisaRoxanne            Brooklyn  Clinton Hill  40.68514  -73.95976   \n4        Laura           Manhattan   East Harlem  40.79851  -73.94399   \n\n         room_type  price  minimum_nights  number_of_reviews last_review  \\\n0     Private room    149               1                  9  2018-10-19   \n1  Entire home/apt    225               1                 45  2019-05-21   \n2     Private room    150               3                  0           1   \n3  Entire home/apt     89               1                270  2019-07-05   \n4  Entire home/apt     80              10                  9  2018-11-19   \n\n   reviews_per_month  calculated_host_listings_count  availability_365  \n0               0.21                             6.0             365.0  \n1               0.38                             2.0             355.0  \n2             365.00                             NaN               NaN  \n3               4.64                             1.0             194.0  \n4               0.10                             1.0               0.0  ",
      "text/html": "<div>\n<style scoped>\n    .dataframe tbody tr th:only-of-type {\n        vertical-align: middle;\n    }\n\n    .dataframe tbody tr th {\n        vertical-align: top;\n    }\n\n    .dataframe thead th {\n        text-align: right;\n    }\n</style>\n<table border=\"1\" class=\"dataframe\">\n  <thead>\n    <tr style=\"text-align: right;\">\n      <th></th>\n      <th>id</th>\n      <th>name</th>\n      <th>host_id</th>\n      <th>host_name</th>\n      <th>neighbourhood_group</th>\n      <th>neighbourhood</th>\n      <th>latitude</th>\n      <th>longitude</th>\n      <th>room_type</th>\n      <th>price</th>\n      <th>minimum_nights</th>\n      <th>number_of_reviews</th>\n      <th>last_review</th>\n      <th>reviews_per_month</th>\n      <th>calculated_host_listings_count</th>\n      <th>availability_365</th>\n    </tr>\n  </thead>\n  <tbody>\n    <tr>\n      <th>0</th>\n      <td>2539</td>\n      <td>Clean &amp; quiet apt home by the park</td>\n      <td>2787</td>\n      <td>John</td>\n      <td>Brooklyn</td>\n      <td>Kensington</td>\n      <td>40.64749</td>\n      <td>-73.97237</td>\n      <td>Private room</td>\n      <td>149</td>\n      <td>1</td>\n      <td>9</td>\n      <td>2018-10-19</td>\n      <td>0.21</td>\n      <td>6.0</td>\n      <td>365.0</td>\n    </tr>\n    <tr>\n      <th>1</th>\n      <td>2595</td>\n      <td>Skylit Midtown Castle</td>\n      <td>2845</td>\n      <td>Jennifer</td>\n      <td>Manhattan</td>\n      <td>Midtown</td>\n      <td>40.75362</td>\n      <td>-73.98377</td>\n      <td>Entire home/apt</td>\n      <td>225</td>\n      <td>1</td>\n      <td>45</td>\n      <td>2019-05-21</td>\n      <td>0.38</td>\n      <td>2.0</td>\n      <td>355.0</td>\n    </tr>\n    <tr>\n      <th>2</th>\n      <td>3647</td>\n      <td>THE VILLAGE OF HARLEM....NEW YORK !</td>\n      <td>4632</td>\n      <td>Elisabeth</td>\n      <td>Manhattan</td>\n      <td>Harlem</td>\n      <td>40.80902</td>\n      <td>-73.94190</td>\n      <td>Private room</td>\n      <td>150</td>\n      <td>3</td>\n      <td>0</td>\n      <td>1</td>\n      <td>365.00</td>\n      <td>NaN</td>\n      <td>NaN</td>\n    </tr>\n    <tr>\n      <th>3</th>\n      <td>3831</td>\n      <td>Cozy Entire Floor of Brownstone</td>\n      <td>4869</td>\n      <td>LisaRoxanne</td>\n      <td>Brooklyn</td>\n      <td>Clinton Hill</td>\n      <td>40.68514</td>\n      <td>-73.95976</td>\n      <td>Entire home/apt</td>\n      <td>89</td>\n      <td>1</td>\n      <td>270</td>\n      <td>2019-07-05</td>\n      <td>4.64</td>\n      <td>1.0</td>\n      <td>194.0</td>\n    </tr>\n    <tr>\n      <th>4</th>\n      <td>5022</td>\n      <td>Entire Apt: Spacious Studio/Loft by central park</td>\n      <td>7192</td>\n      <td>Laura</td>\n      <td>Manhattan</td>\n      <td>East Harlem</td>\n      <td>40.79851</td>\n      <td>-73.94399</td>\n      <td>Entire home/apt</td>\n      <td>80</td>\n      <td>10</td>\n      <td>9</td>\n      <td>2018-11-19</td>\n      <td>0.10</td>\n      <td>1.0</td>\n      <td>0.0</td>\n    </tr>\n  </tbody>\n</table>\n</div>"
     },
     "execution_count": 20,
     "metadata": {},
     "output_type": "execute_result"
    }
   ],
   "source": [
    "data.head()"
   ],
   "metadata": {
    "collapsed": false,
    "pycharm": {
     "name": "#%%\n"
    }
   }
  },
  {
   "cell_type": "code",
   "execution_count": 21,
   "outputs": [
    {
     "data": {
      "text/plain": "   host_id  latitude  longitude  price  minimum_nights  number_of_reviews  \\\n0     2787  40.64749  -73.97237    149               1                  9   \n1     2845  40.75362  -73.98377    225               1                 45   \n2     4632  40.80902  -73.94190    150               3                  0   \n3     4869  40.68514  -73.95976     89               1                270   \n4     7192  40.79851  -73.94399     80              10                  9   \n\n   reviews_per_month  calculated_host_listings_count  availability_365  \n0               0.21                             6.0             365.0  \n1               0.38                             2.0             355.0  \n2             365.00                             NaN               NaN  \n3               4.64                             1.0             194.0  \n4               0.10                             1.0               0.0  ",
      "text/html": "<div>\n<style scoped>\n    .dataframe tbody tr th:only-of-type {\n        vertical-align: middle;\n    }\n\n    .dataframe tbody tr th {\n        vertical-align: top;\n    }\n\n    .dataframe thead th {\n        text-align: right;\n    }\n</style>\n<table border=\"1\" class=\"dataframe\">\n  <thead>\n    <tr style=\"text-align: right;\">\n      <th></th>\n      <th>host_id</th>\n      <th>latitude</th>\n      <th>longitude</th>\n      <th>price</th>\n      <th>minimum_nights</th>\n      <th>number_of_reviews</th>\n      <th>reviews_per_month</th>\n      <th>calculated_host_listings_count</th>\n      <th>availability_365</th>\n    </tr>\n  </thead>\n  <tbody>\n    <tr>\n      <th>0</th>\n      <td>2787</td>\n      <td>40.64749</td>\n      <td>-73.97237</td>\n      <td>149</td>\n      <td>1</td>\n      <td>9</td>\n      <td>0.21</td>\n      <td>6.0</td>\n      <td>365.0</td>\n    </tr>\n    <tr>\n      <th>1</th>\n      <td>2845</td>\n      <td>40.75362</td>\n      <td>-73.98377</td>\n      <td>225</td>\n      <td>1</td>\n      <td>45</td>\n      <td>0.38</td>\n      <td>2.0</td>\n      <td>355.0</td>\n    </tr>\n    <tr>\n      <th>2</th>\n      <td>4632</td>\n      <td>40.80902</td>\n      <td>-73.94190</td>\n      <td>150</td>\n      <td>3</td>\n      <td>0</td>\n      <td>365.00</td>\n      <td>NaN</td>\n      <td>NaN</td>\n    </tr>\n    <tr>\n      <th>3</th>\n      <td>4869</td>\n      <td>40.68514</td>\n      <td>-73.95976</td>\n      <td>89</td>\n      <td>1</td>\n      <td>270</td>\n      <td>4.64</td>\n      <td>1.0</td>\n      <td>194.0</td>\n    </tr>\n    <tr>\n      <th>4</th>\n      <td>7192</td>\n      <td>40.79851</td>\n      <td>-73.94399</td>\n      <td>80</td>\n      <td>10</td>\n      <td>9</td>\n      <td>0.10</td>\n      <td>1.0</td>\n      <td>0.0</td>\n    </tr>\n  </tbody>\n</table>\n</div>"
     },
     "execution_count": 21,
     "metadata": {},
     "output_type": "execute_result"
    }
   ],
   "source": [
    "continuous_values_cols = ['host_id','latitude','longitude','price','minimum_nights','number_of_reviews','reviews_per_month','calculated_host_listings_count','availability_365']\n",
    "\n",
    "data = data[continuous_values_cols]\n",
    "data.head()"
   ],
   "metadata": {
    "collapsed": false,
    "pycharm": {
     "name": "#%%\n"
    }
   }
  },
  {
   "cell_type": "code",
   "execution_count": 22,
   "outputs": [
    {
     "data": {
      "text/plain": "host_id                           0\nlatitude                          0\nlongitude                         0\nprice                             0\nminimum_nights                    0\nnumber_of_reviews                 0\nreviews_per_month                 0\ncalculated_host_listings_count    1\navailability_365                  1\ndtype: int64"
     },
     "execution_count": 22,
     "metadata": {},
     "output_type": "execute_result"
    }
   ],
   "source": [
    "data = data.astype('float')\n",
    "data.isnull().sum()"
   ],
   "metadata": {
    "collapsed": false,
    "pycharm": {
     "name": "#%%\n"
    }
   }
  },
  {
   "cell_type": "code",
   "execution_count": 23,
   "outputs": [
    {
     "data": {
      "text/plain": "host_id                           0\nlatitude                          0\nlongitude                         0\nprice                             0\nminimum_nights                    0\nnumber_of_reviews                 0\nreviews_per_month                 0\ncalculated_host_listings_count    0\navailability_365                  0\ndtype: int64"
     },
     "execution_count": 23,
     "metadata": {},
     "output_type": "execute_result"
    }
   ],
   "source": [
    "data = data.dropna(subset=['availability_365'])\n",
    "data.isnull().sum()"
   ],
   "metadata": {
    "collapsed": false,
    "pycharm": {
     "name": "#%%\n"
    }
   }
  },
  {
   "cell_type": "code",
   "execution_count": 24,
   "outputs": [],
   "source": [
    "data = data.fillna(data.mean())"
   ],
   "metadata": {
    "collapsed": false,
    "pycharm": {
     "name": "#%%\n"
    }
   }
  },
  {
   "cell_type": "code",
   "execution_count": 25,
   "outputs": [
    {
     "data": {
      "text/plain": "host_id                           0\nlatitude                          0\nlongitude                         0\nprice                             0\nminimum_nights                    0\nnumber_of_reviews                 0\nreviews_per_month                 0\ncalculated_host_listings_count    0\navailability_365                  0\ndtype: int64"
     },
     "execution_count": 25,
     "metadata": {},
     "output_type": "execute_result"
    }
   ],
   "source": [
    "data.isnull().sum()"
   ],
   "metadata": {
    "collapsed": false,
    "pycharm": {
     "name": "#%%\n"
    }
   }
  },
  {
   "cell_type": "code",
   "execution_count": 26,
   "outputs": [
    {
     "data": {
      "text/plain": "         host_id   latitude  longitude      price  minimum_nights  \\\ncount  17.000000  17.000000  17.000000  17.000000       17.000000   \nmean    0.393981   0.569633   0.545457   0.395722        0.103106   \nstd     0.299549   0.314004   0.285952   0.307369        0.259531   \nmin     0.000000   0.000000   0.000000   0.000000        0.000000   \n25%     0.249683   0.283934   0.331701   0.151515        0.000000   \n50%     0.270605   0.606604   0.545217   0.363636        0.011236   \n75%     0.505864   0.754159   0.742573   0.539394        0.022472   \nmax     1.000000   1.000000   1.000000   1.000000        1.000000   \n\n       number_of_reviews  reviews_per_month  calculated_host_listings_count  \\\ncount          17.000000          17.000000                       17.000000   \nmean            0.286573           0.297357                        0.105882   \nstd             0.268743           0.317294                        0.274933   \nmin             0.000000           0.000000                        0.000000   \n25%             0.095012           0.066079                        0.000000   \n50%             0.247031           0.196035                        0.000000   \n75%             0.425178           0.356828                        0.000000   \nmax             1.000000           1.000000                        1.000000   \n\n       availability_365  \ncount         17.000000  \nmean         135.588235  \nstd          149.048674  \nmin            0.000000  \n25%            6.000000  \n50%           46.000000  \n75%          220.000000  \nmax          365.000000  ",
      "text/html": "<div>\n<style scoped>\n    .dataframe tbody tr th:only-of-type {\n        vertical-align: middle;\n    }\n\n    .dataframe tbody tr th {\n        vertical-align: top;\n    }\n\n    .dataframe thead th {\n        text-align: right;\n    }\n</style>\n<table border=\"1\" class=\"dataframe\">\n  <thead>\n    <tr style=\"text-align: right;\">\n      <th></th>\n      <th>host_id</th>\n      <th>latitude</th>\n      <th>longitude</th>\n      <th>price</th>\n      <th>minimum_nights</th>\n      <th>number_of_reviews</th>\n      <th>reviews_per_month</th>\n      <th>calculated_host_listings_count</th>\n      <th>availability_365</th>\n    </tr>\n  </thead>\n  <tbody>\n    <tr>\n      <th>count</th>\n      <td>17.000000</td>\n      <td>17.000000</td>\n      <td>17.000000</td>\n      <td>17.000000</td>\n      <td>17.000000</td>\n      <td>17.000000</td>\n      <td>17.000000</td>\n      <td>17.000000</td>\n      <td>17.000000</td>\n    </tr>\n    <tr>\n      <th>mean</th>\n      <td>0.393981</td>\n      <td>0.569633</td>\n      <td>0.545457</td>\n      <td>0.395722</td>\n      <td>0.103106</td>\n      <td>0.286573</td>\n      <td>0.297357</td>\n      <td>0.105882</td>\n      <td>135.588235</td>\n    </tr>\n    <tr>\n      <th>std</th>\n      <td>0.299549</td>\n      <td>0.314004</td>\n      <td>0.285952</td>\n      <td>0.307369</td>\n      <td>0.259531</td>\n      <td>0.268743</td>\n      <td>0.317294</td>\n      <td>0.274933</td>\n      <td>149.048674</td>\n    </tr>\n    <tr>\n      <th>min</th>\n      <td>0.000000</td>\n      <td>0.000000</td>\n      <td>0.000000</td>\n      <td>0.000000</td>\n      <td>0.000000</td>\n      <td>0.000000</td>\n      <td>0.000000</td>\n      <td>0.000000</td>\n      <td>0.000000</td>\n    </tr>\n    <tr>\n      <th>25%</th>\n      <td>0.249683</td>\n      <td>0.283934</td>\n      <td>0.331701</td>\n      <td>0.151515</td>\n      <td>0.000000</td>\n      <td>0.095012</td>\n      <td>0.066079</td>\n      <td>0.000000</td>\n      <td>6.000000</td>\n    </tr>\n    <tr>\n      <th>50%</th>\n      <td>0.270605</td>\n      <td>0.606604</td>\n      <td>0.545217</td>\n      <td>0.363636</td>\n      <td>0.011236</td>\n      <td>0.247031</td>\n      <td>0.196035</td>\n      <td>0.000000</td>\n      <td>46.000000</td>\n    </tr>\n    <tr>\n      <th>75%</th>\n      <td>0.505864</td>\n      <td>0.754159</td>\n      <td>0.742573</td>\n      <td>0.539394</td>\n      <td>0.022472</td>\n      <td>0.425178</td>\n      <td>0.356828</td>\n      <td>0.000000</td>\n      <td>220.000000</td>\n    </tr>\n    <tr>\n      <th>max</th>\n      <td>1.000000</td>\n      <td>1.000000</td>\n      <td>1.000000</td>\n      <td>1.000000</td>\n      <td>1.000000</td>\n      <td>1.000000</td>\n      <td>1.000000</td>\n      <td>1.000000</td>\n      <td>365.000000</td>\n    </tr>\n  </tbody>\n</table>\n</div>"
     },
     "execution_count": 26,
     "metadata": {},
     "output_type": "execute_result"
    }
   ],
   "source": [
    "target = data['availability_365']\n",
    "data = (data - data.min())/(data.max() - data.min())\n",
    "data['availability_365'] = target\n",
    "data.describe()"
   ],
   "metadata": {
    "collapsed": false,
    "pycharm": {
     "name": "#%%\n"
    }
   }
  },
  {
   "cell_type": "code",
   "execution_count": 27,
   "outputs": [],
   "source": [
    "from sklearn.neighbors import KNeighborsRegressor\n",
    "from sklearn.metrics import r2_score\n",
    "\n",
    "def knn_train_test(train_col, target_col, rdata):\n",
    "\n",
    "    # initialize knn regressor\n",
    "    knn = KNeighborsRegressor()\n",
    "    np.random.seed(41)\n",
    "\n",
    "    # Permute the order in the data\n",
    "    shuffled_index = np.random.permutation(rdata.index)\n",
    "    rand_data = rdata.reindex(shuffled_index)\n",
    "\n",
    "    # Define first half of the data\n",
    "    last_train_row = int(len(rand_data) / 2)\n",
    "\n",
    "    # Select the first half and set as training set\n",
    "    # Select the second half and set as test set\n",
    "    train_data = rand_data.iloc[0:last_train_row]\n",
    "    test_data = rand_data.iloc[last_train_row:]\n",
    "\n",
    "    # Fit a KNN model using the default k value\n",
    "    knn.fit(train_data[[train_col]], train_data[target_col])\n",
    "\n",
    "    # Make predictions using model\n",
    "    prediction = knn.predict(test_data[[train_col]])\n",
    "\n",
    "    # Calculate r2 score\n",
    "    r2 = r2_score(test_data[target_col], prediction)\n",
    "\n",
    "    return r2"
   ],
   "metadata": {
    "collapsed": false,
    "pycharm": {
     "name": "#%%\n"
    }
   }
  },
  {
   "cell_type": "code",
   "execution_count": 28,
   "outputs": [
    {
     "data": {
      "text/plain": "availability_365                  0.200874\nnumber_of_reviews                -0.035760\nhost_id                          -0.049487\nreviews_per_month                -0.084092\nlongitude                        -0.107596\nminimum_nights                   -0.109578\ncalculated_host_listings_count   -0.135291\nlatitude                         -0.278687\ndtype: float64"
     },
     "execution_count": 28,
     "metadata": {},
     "output_type": "execute_result"
    }
   ],
   "source": [
    "rmse_results = dict()\n",
    "train_cols = data.columns.drop('price')\n",
    "\n",
    "# For each column (without price), train a model, return RMSE value\n",
    "# and add to the dictionary rmse_results.\n",
    "for col in train_cols:\n",
    "    rmse_val = knn_train_test(col, 'price', data)\n",
    "    rmse_results[col] = rmse_val\n",
    "\n",
    "# Create a Series object from the dictionary so\n",
    "# we can easily view the results, sort, etc\n",
    "rmse_results_series = pd.Series(rmse_results)\n",
    "rmse_results_series.sort_values(ascending=False)"
   ],
   "metadata": {
    "collapsed": false,
    "pycharm": {
     "name": "#%%\n"
    }
   }
  },
  {
   "cell_type": "code",
   "execution_count": 29,
   "outputs": [
    {
     "data": {
      "text/plain": "Text(0.5, 1.0, 'Price vs number_of_reviews')"
     },
     "execution_count": 29,
     "metadata": {},
     "output_type": "execute_result"
    },
    {
     "data": {
      "text/plain": "<Figure size 432x288 with 1 Axes>",
      "image/png": "[encoded data removed]"
     },
     "metadata": {
      "needs_background": "light"
     },
     "output_type": "display_data"
    }
   ],
   "source": [
    "import matplotlib.pyplot as plt\n",
    "%matplotlib inline\n",
    "\n",
    "np.corrcoef(data['price'], data['number_of_reviews'])\n",
    "plt.scatter(data['number_of_reviews'], data['price'])\n",
    "plt.xlabel(\"number_of_reviews\")\n",
    "plt.ylabel(\"price\")\n",
    "plt.title(\"Price vs number_of_reviews\")"
   ],
   "metadata": {
    "collapsed": false,
    "pycharm": {
     "name": "#%%\n"
    }
   }
  },
  {
   "cell_type": "code",
   "execution_count": 29,
   "outputs": [],
   "source": [],
   "metadata": {
    "collapsed": false,
    "pycharm": {
     "name": "#%%\n"
    }
   }
  }
 ],
 "metadata": {
  "kernelspec": {
   "display_name": "Python 3",
   "language": "python",
   "name": "python3"
  },
  "language_info": {
   "codemirror_mode": {
    "name": "ipython",
    "version": 2
   },
   "file_extension": ".py",
   "mimetype": "text/x-python",
   "name": "python",
   "nbconvert_exporter": "python",
   "pygments_lexer": "ipython2",
   "version": "2.7.6"
  }
 },
 "nbformat": 4,
 "nbformat_minor": 0
}